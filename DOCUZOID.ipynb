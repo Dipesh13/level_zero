{
 "cells": [
  {
   "cell_type": "code",
   "execution_count": 3,
   "metadata": {},
   "outputs": [],
   "source": [
    "# from get_embedding import sent_embedding\n",
    "import en_core_web_sm\n",
    "nlp = en_core_web_sm.load()\n",
    "# import spacy\n",
    "# nlp = spacy.load('en')"
   ]
  },
  {
   "cell_type": "code",
   "execution_count": 4,
   "metadata": {},
   "outputs": [
    {
     "name": "stdout",
     "output_type": "stream",
     "text": [
      "\n",
      " ******** Summary for interest rate ********\n",
      "\n"
     ]
    }
   ],
   "source": [
    "print(\"\\n ******** Summary for interest rate ********\\n\")"
   ]
  },
  {
   "cell_type": "code",
   "execution_count": 38,
   "metadata": {},
   "outputs": [],
   "source": [
    "# with open(\"/home/dipesh/auto_cca-master/test.txt\") as f:\n",
    "#     sentences = f.readlines()\n",
    "\n",
    "with open(\"/home/dipesh/auto_cca-master/test.txt\") as f:\n",
    "    sentences = f.readlines()"
   ]
  },
  {
   "cell_type": "code",
   "execution_count": 39,
   "metadata": {},
   "outputs": [],
   "source": [
    "# SPACY\n",
    "factor = \"interest rate\"\n",
    "token1 = nlp(factor)"
   ]
  },
  {
   "cell_type": "code",
   "execution_count": 40,
   "metadata": {},
   "outputs": [],
   "source": [
    "def Sort_Tuple(tup):\n",
    "    # getting length of list of tuples\n",
    "    lst = len(tup)\n",
    "    for i in range(0, lst):\n",
    "        for j in range(0, lst - i - 1):\n",
    "            if (tup[j][1] > tup[j + 1][1]):\n",
    "                temp = tup[j]\n",
    "                tup[j] = tup[j + 1]\n",
    "                tup[j + 1] = temp\n",
    "    return tup"
   ]
  },
  {
   "cell_type": "code",
   "execution_count": 41,
   "metadata": {},
   "outputs": [],
   "source": [
    "X = []\n",
    "for sentence in sentences:\n",
    "    doc = nlp(sentence)\n",
    "    for d in doc.sents:\n",
    "        X.append((d.text,token1.similarity(d)))"
   ]
  },
  {
   "cell_type": "code",
   "execution_count": 47,
   "metadata": {},
   "outputs": [
    {
     "name": "stdout",
     "output_type": "stream",
     "text": [
      "We estimate that a 1 percentage point increase in interest rates would result in a $100 million decrease in the fair value of our portfolio of highly liquid debt securities.\n",
      "  -------------> Score:  0.7329412899597001 \n",
      " \n",
      "\n",
      "Based on the Company's variable-rate debt and derivative instruments outstanding as of December 31, 2018, we estimate that a 1 percentage point increase in interest rates would have increased interest expense by $251 million in 2018.  -------------> Score:  0.644682059455282 \n",
      " \n",
      "\n",
      "The fair value of the contracts that qualify for hedge accounting resulted in a net unrealized loss of $1 million as of December 31, 2018, and we estimate that a 10 percent decrease in underlying commodity prices would have increased the net unrealized loss to $2 million.\n",
      "  -------------> Score:  0.619158457779838 \n",
      " \n",
      "\n",
      "The fair value of the contracts that do not qualify for hedge accounting resulted in a net unrealized loss of $44 million as of December 31, 2018, and we estimate that a 10 percent decrease in underlying commodity prices would have increased the net unrealized loss to $69 million.\n",
      "  -------------> Score:  0.6138254314926073 \n",
      " \n",
      "\n",
      "The fair value of the contracts that do not qualify for hedge accounting resulted in a net unrealized loss of $40 million as of December 31, 2018, and we estimate that a 10 percent weakening of the U.S. dollar would have eliminated the net unrealized loss and created a net unrealized gain of $217 million.\n",
      "  -------------> Score:  0.5829166656671447 \n",
      " \n",
      "\n",
      "The fair value of the contracts that qualify for hedge accounting resulted in a net unrealized gain of $83 million as of December 31, 2018, and we estimate that a 10 percent weakening of the U.S. dollar would have eliminated the net unrealized gain and created a net unrealized loss of $191 million.  -------------> Score:  0.5733690964657279 \n",
      " \n",
      "\n",
      "Open commodity derivatives that qualify for hedge accounting had notional values of $9 million and $35 million as of December 31, 2018 and 2017, respectively.  -------------> Score:  0.45966181844188697 \n",
      " \n",
      "\n",
      "Open commodity derivatives that do not qualify for hedge accounting had notional values of $373 million and $357 million as of December 31, 2018 and 2017, respectively.  -------------> Score:  0.4460741407325411 \n",
      " \n",
      "\n",
      "In 2018, we used 72 functional currencies in addition to the U.S. dollar and generated $20,512 million of our net operating revenues from operations outside the United States; therefore, weaknesses in some currencies may be offset by strengths in other currencies over time.  -------------> Score:  0.43773489624111267 \n",
      " \n",
      "\n",
      "The total notional values of our foreign currency derivatives were $17,142 million and $13,057 million as of December 31, 2018 and 2017, respectively.  -------------> Score:  0.3376659353889571 \n",
      " \n",
      "\n"
     ]
    }
   ],
   "source": [
    "X = Sort_Tuple(X)\n",
    "\n",
    "for x in X[::-1]:\n",
    "    if \"$\" in x[0]:\n",
    "        print(x[0],\" -------------> Score: \",x[1],'\\n',\"\\n\")"
   ]
  },
  {
   "cell_type": "code",
   "execution_count": 13,
   "metadata": {},
   "outputs": [
    {
     "name": "stdout",
     "output_type": "stream",
     "text": [
      "\n",
      " ******** Summary for foreign curreny exchange rate ********\n",
      "\n"
     ]
    }
   ],
   "source": [
    "print(\"\\n ******** Summary for foreign curreny exchange rate ********\\n\")"
   ]
  },
  {
   "cell_type": "code",
   "execution_count": 31,
   "metadata": {},
   "outputs": [],
   "source": [
    "sentence2 = \"operational income\"\n",
    "token2 = nlp(sentence2)"
   ]
  },
  {
   "cell_type": "code",
   "execution_count": 32,
   "metadata": {},
   "outputs": [
    {
     "name": "stdout",
     "output_type": "stream",
     "text": [
      "We use derivative financial instruments to further reduce our net exposure to foreign currency fluctuations.\n",
      " 0.7659862665965637 \n",
      "\n",
      "We monitor our exposure to financial market risks using several objective measurement systems, including a sensitivity analysis to measure our exposure to fluctuations in foreign currency exchange rates, interest rates and commodity prices. 0.7353376535681397 \n",
      "\n",
      "Our Company uses derivative financial instruments primarily to reduce our exposure to adverse fluctuations in foreign currency exchange rates, interest rates, commodity prices and other market risks. 0.7173876819889315 \n",
      "\n",
      "Our Company enters into forward exchange contracts and purchases foreign currency options (principally euros, British pounds sterling and Japanese yen) and collars to hedge certain portions of forecasted cash flows denominated in foreign currencies. 0.7145821489544277 \n",
      "\n",
      "Additionally, we enter into forward exchange contracts to offset the earnings impact related to foreign currency fluctuations on certain monetary assets and liabilities. 0.7125069318088973 \n",
      "\n",
      "We manage most of our foreign currency exposures on a consolidated basis, which allows us to net certain exposures and take advantage of any natural offsets. 0.7106301081741878 \n",
      "\n",
      "Our policy requires these investments to be investment grade, with the primary objective of minimizing the potential risk of principal loss. 0.6983701385548605 \n",
      "\n",
      "From time to time, we enter into interest rate swap agreements to manage our exposure to interest rate fluctuations.\n",
      " 0.6868596059090164 \n",
      "\n",
      "We manage our exposure to commodity risks primarily through the use of supplier pricing agreements that enable us to establish the purchase prices for certain inputs that are used in our manufacturing and distribution operations. 0.6786897880005244 \n",
      "\n",
      "The Company is subject to interest rate risk related to its investments in highly liquid debt securities. 0.6773749658722266 \n",
      "\n",
      "We estimate that a 1 percentage point increase in interest rates would result in a $100 million decrease in the fair value of our portfolio of highly liquid debt securities.\n",
      " 0.6683258539454189 \n",
      "\n",
      "When deemed appropriate, we use derivative financial instruments to manage our exposure to commodity risks. 0.665040441902398 \n",
      "\n",
      "Certain of these derivatives do not qualify for hedge accounting, but they are effective economic hedges that help the Company mitigate the price risk associated with the purchases and transportation of materials used in our manufacturing processes.\n",
      " 0.6598864215728948 \n",
      "\n",
      "As a matter of policy, all of our derivative positions are used to reduce risk by hedging an underlying economic exposure. 0.6549966476940738 \n",
      "\n",
      "These values include derivative instruments that are designated and qualify for hedge accounting as well as economic hedges. 0.6527415196962579 \n",
      "\n",
      "The fair value of the contracts that qualify for hedge accounting resulted in a net unrealized loss of $1 million as of December 31, 2018, and we estimate that a 10 percent decrease in underlying commodity prices would have increased the net unrealized loss to $2 million.\n",
      " 0.6425195202806909 \n",
      "\n",
      "The fair value of the contracts that do not qualify for hedge accounting resulted in a net unrealized loss of $44 million as of December 31, 2018, and we estimate that a 10 percent decrease in underlying commodity prices would have increased the net unrealized loss to $69 million.\n",
      " 0.6390645814421111 \n",
      "\n",
      "The Company is subject to interest rate volatility with regard to existing and future issuances of debt. 0.6387488680585415 \n",
      "\n",
      "We also enter into forward exchange contracts as hedges of net investments in foreign operations.\n",
      " 0.6372691181502482 \n",
      "\n",
      "The fair value of the contracts that do not qualify for hedge accounting resulted in a net unrealized loss of $40 million as of December 31, 2018, and we estimate that a 10 percent weakening of the U.S. dollar would have eliminated the net unrealized loss and created a net unrealized gain of $217 million.\n",
      " 0.6232467670754297 \n",
      "\n",
      "The fair value of the contracts that qualify for hedge accounting resulted in a net unrealized gain of $83 million as of December 31, 2018, and we estimate that a 10 percent weakening of the U.S. dollar would have eliminated the net unrealized gain and created a net unrealized loss of $191 million. 0.619210788858993 \n",
      "\n",
      "However, this increase in interest expense would have been partially offset by the increase in interest income related to higher interest rates.\n",
      " 0.6148831787236185 \n",
      "\n",
      "We do not enter into derivative financial instruments for trading purposes. 0.613267352102386 \n",
      "\n",
      "Based on the Company's variable-rate debt and derivative instruments outstanding as of December 31, 2018, we estimate that a 1 percentage point increase in interest rates would have increased interest expense by $251 million in 2018. 0.6104567475948597 \n",
      "\n",
      "We monitor our mix of fixed-rate and variable-rate debt as well as our mix of short-term debt and long-term debt. 0.6103904872955852 \n",
      "\n",
      "Virtually all of our derivatives are straightforward over-the-counter instruments with liquid markets.\n",
      " 0.6025477155285893 \n",
      "\n",
      "These investments are primarily managed by external managers within the guidelines of the Company's investment policy. 0.5987381395469517 \n",
      "\n",
      "Because of the high correlation between the hedging instrument and the underlying exposure, fluctuations in the value of the instruments are generally offset by reciprocal changes in the value of the underlying exposure. 0.5930662670904984 \n",
      "\n",
      "Refer to Note 6 of Notes to Consolidated Financial Statements for additional information about our hedging transactions and derivative financial instruments.\n",
      " 0.5898732431314074 \n",
      "\n",
      "In addition, our policy limits the amount of credit exposure to any one issuer. 0.5820457429328787 \n",
      "\n",
      "The Company generally hedges anticipated exposures up to 36 months in advance; however, the majority of our derivative instruments expire within 24 months or less. 0.555218192844979 \n",
      "\n",
      "In 2018, we used 72 functional currencies in addition to the U.S. dollar and generated $20,512 million of our net operating revenues from operations outside the United States; therefore, weaknesses in some currencies may be offset by strengths in other currencies over time. 0.5513607352491591 \n",
      "\n",
      "The Company is subject to market risk with respect to commodity price fluctuations, principally related to our purchases of sweeteners, metals, juices, PET and fuels. 0.5505489231295123 \n",
      "\n",
      "Open commodity derivatives that qualify for hedge accounting had notional values of $9 million and $35 million as of December 31, 2018 and 2017, respectively. 0.48056311557021564 \n",
      "\n",
      "ITEM 7A.  QUANTITATIVE AND QUALITATIVE DISCLOSURES ABOUT MARKET RISK\n",
      " 0.4739253329460276 \n",
      "\n",
      "Open commodity derivatives that do not qualify for hedge accounting had notional values of $373 million and $357 million as of December 31, 2018 and 2017, respectively. 0.47130823944526573 \n",
      "\n",
      "The total notional values of our foreign currency derivatives were $17,142 million and $13,057 million as of December 31, 2018 and 2017, respectively. 0.43970456558465826 \n",
      "\n",
      "\n",
      " 0.3833924490738907 \n",
      "\n",
      "Interest Rates\n",
      " 0.2656044348319825 \n",
      "\n",
      "Commodity Prices\n",
      " 0.22621650003409788 \n",
      "\n",
      "Foreign Currency Exchange Rates\n",
      " 0.21522722662087182 \n",
      "\n"
     ]
    }
   ],
   "source": [
    "Y = []\n",
    "for sentence in sentences:\n",
    "    doc1 = nlp(sentence)\n",
    "    for d1 in doc1.sents:\n",
    "        Y.append((d1.text,token2.similarity(d1)))\n",
    "        \n",
    "\n",
    "Y = Sort_Tuple(Y)\n",
    "\n",
    "for y in Y[::-1]:\n",
    "    # if \"operating\" in y[0]:\n",
    "    print(y[0],y[1],'\\n')"
   ]
  },
  {
   "cell_type": "code",
   "execution_count": null,
   "metadata": {},
   "outputs": [],
   "source": []
  },
  {
   "cell_type": "code",
   "execution_count": null,
   "metadata": {},
   "outputs": [],
   "source": []
  }
 ],
 "metadata": {
  "kernelspec": {
   "display_name": "Python 3",
   "language": "python",
   "name": "python3"
  },
  "language_info": {
   "codemirror_mode": {
    "name": "ipython",
    "version": 3
   },
   "file_extension": ".py",
   "mimetype": "text/x-python",
   "name": "python",
   "nbconvert_exporter": "python",
   "pygments_lexer": "ipython3",
   "version": "3.6.0"
  }
 },
 "nbformat": 4,
 "nbformat_minor": 2
}
