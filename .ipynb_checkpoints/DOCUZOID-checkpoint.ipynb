{
 "cells": [
  {
   "cell_type": "code",
   "execution_count": 9,
   "metadata": {},
   "outputs": [],
   "source": [
    "import en_core_web_sm\n",
    "nlp = en_core_web_sm.load()\n",
    "# import spacy\n",
    "# nlp = spacy.load('en')"
   ]
  },
  {
   "cell_type": "code",
   "execution_count": 10,
   "metadata": {},
   "outputs": [
    {
     "name": "stdout",
     "output_type": "stream",
     "text": [
      "\n",
      " ******** Summary for interest rate ********\n",
      "\n"
     ]
    }
   ],
   "source": [
    "print(\"\\n ******** Summary for interest rate ********\\n\")"
   ]
  },
  {
   "cell_type": "code",
   "execution_count": 11,
   "metadata": {},
   "outputs": [],
   "source": [
    "with open(\"/home/dipesh/auto_cca-master/test.txt\") as f:\n",
    "    sentences = f.readlines()"
   ]
  },
  {
   "cell_type": "code",
   "execution_count": 12,
   "metadata": {},
   "outputs": [],
   "source": [
    "# SPACY\n",
    "factor = \"interest rate\"\n",
    "token1 = nlp(factor)"
   ]
  },
  {
   "cell_type": "code",
   "execution_count": 13,
   "metadata": {},
   "outputs": [],
   "source": [
    "def Sort_Tuple(tup):\n",
    "    # getting length of list of tuples\n",
    "    lst = len(tup)\n",
    "    for i in range(0, lst):\n",
    "        for j in range(0, lst - i - 1):\n",
    "            if (tup[j][1] > tup[j + 1][1]):\n",
    "                temp = tup[j]\n",
    "                tup[j] = tup[j + 1]\n",
    "                tup[j + 1] = temp\n",
    "    return tup"
   ]
  },
  {
   "cell_type": "code",
   "execution_count": 14,
   "metadata": {},
   "outputs": [],
   "source": [
    "X = []\n",
    "for sentence in sentences:\n",
    "    doc = nlp(sentence)\n",
    "    for d in doc.sents:\n",
    "        X.append((d.text,token1.similarity(d)))"
   ]
  },
  {
   "cell_type": "code",
   "execution_count": 15,
   "metadata": {},
   "outputs": [
    {
     "name": "stdout",
     "output_type": "stream",
     "text": [
      "We estimate that a 1 percentage point increase in interest rates would result in a $100 million decrease in the fair value of our portfolio of highly liquid debt securities.\n",
      "  -------------> Score:  0.7329412899597001 \n",
      " \n",
      "\n",
      "Based on the Company's variable-rate debt and derivative instruments outstanding as of December 31, 2018, we estimate that a 1 percentage point increase in interest rates would have increased interest expense by $251 million in 2018.  -------------> Score:  0.644682059455282 \n",
      " \n",
      "\n",
      "The fair value of the contracts that qualify for hedge accounting resulted in a net unrealized loss of $1 million as of December 31, 2018, and we estimate that a 10 percent decrease in underlying commodity prices would have increased the net unrealized loss to $2 million.\n",
      "  -------------> Score:  0.619158457779838 \n",
      " \n",
      "\n",
      "The fair value of the contracts that do not qualify for hedge accounting resulted in a net unrealized loss of $44 million as of December 31, 2018, and we estimate that a 10 percent decrease in underlying commodity prices would have increased the net unrealized loss to $69 million.\n",
      "  -------------> Score:  0.6138254314926073 \n",
      " \n",
      "\n",
      "The fair value of the contracts that do not qualify for hedge accounting resulted in a net unrealized loss of $40 million as of December 31, 2018, and we estimate that a 10 percent weakening of the U.S. dollar would have eliminated the net unrealized loss and created a net unrealized gain of $217 million.\n",
      "  -------------> Score:  0.5829166656671447 \n",
      " \n",
      "\n",
      "The fair value of the contracts that qualify for hedge accounting resulted in a net unrealized gain of $83 million as of December 31, 2018, and we estimate that a 10 percent weakening of the U.S. dollar would have eliminated the net unrealized gain and created a net unrealized loss of $191 million.  -------------> Score:  0.5733690964657279 \n",
      " \n",
      "\n",
      "Open commodity derivatives that qualify for hedge accounting had notional values of $9 million and $35 million as of December 31, 2018 and 2017, respectively.  -------------> Score:  0.45966181844188697 \n",
      " \n",
      "\n",
      "Open commodity derivatives that do not qualify for hedge accounting had notional values of $373 million and $357 million as of December 31, 2018 and 2017, respectively.  -------------> Score:  0.4460741407325411 \n",
      " \n",
      "\n",
      "In 2018, we used 72 functional currencies in addition to the U.S. dollar and generated $20,512 million of our net operating revenues from operations outside the United States; therefore, weaknesses in some currencies may be offset by strengths in other currencies over time.  -------------> Score:  0.43773489624111267 \n",
      " \n",
      "\n",
      "The total notional values of our foreign currency derivatives were $17,142 million and $13,057 million as of December 31, 2018 and 2017, respectively.  -------------> Score:  0.3376659353889571 \n",
      " \n",
      "\n"
     ]
    }
   ],
   "source": [
    "X = Sort_Tuple(X)\n",
    "\n",
    "for x in X[::-1]:\n",
    "    if \"$\" in x[0]:\n",
    "        print(x[0],\" -------------> Score: \",x[1],'\\n',\"\\n\")"
   ]
  },
  {
   "cell_type": "code",
   "execution_count": null,
   "metadata": {},
   "outputs": [],
   "source": []
  },
  {
   "cell_type": "code",
   "execution_count": null,
   "metadata": {},
   "outputs": [],
   "source": []
  }
 ],
 "metadata": {
  "kernelspec": {
   "display_name": "Python 3",
   "language": "python",
   "name": "python3"
  },
  "language_info": {
   "codemirror_mode": {
    "name": "ipython",
    "version": 3
   },
   "file_extension": ".py",
   "mimetype": "text/x-python",
   "name": "python",
   "nbconvert_exporter": "python",
   "pygments_lexer": "ipython3",
   "version": "3.6.0"
  }
 },
 "nbformat": 4,
 "nbformat_minor": 2
}
